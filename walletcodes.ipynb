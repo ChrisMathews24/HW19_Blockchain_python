{
 "cells": [
  {
   "cell_type": "code",
   "execution_count": 11,
   "metadata": {},
   "outputs": [],
   "source": [
    "# Import dependencies\n",
    "import subprocess\n",
    "import json\n",
    "from dotenv import load_dotenv\n",
    "import os\n",
    "\n",
    "from pprint import pprint\n",
    "from bit import PrivateKeyTestnet\n",
    "from bit.network import NetworkAPI\n",
    "\n",
    "from web3 import Web3, middleware, Account\n",
    "from web3.gas_strategies.time_based import medium_gas_price_strategy\n",
    "from web3.middleware import geth_poa_middleware"
   ]
  },
  {
   "cell_type": "code",
   "execution_count": 15,
   "metadata": {},
   "outputs": [
    {
     "name": "stdout",
     "output_type": "stream",
     "text": [
      "neglect rice alien toe actor sorry chuckle hazard tortoise hawk dumb weapon\n"
     ]
    }
   ],
   "source": [
    "# Load and set environment variables\n",
    "load_dotenv()\n",
    "mnemonic=os.getenv(\"mnemonic\")\n",
    "print(mnemonic)"
   ]
  },
  {
   "cell_type": "code",
   "execution_count": 16,
   "metadata": {},
   "outputs": [],
   "source": [
    "w3 = Web3(Web3.HTTPProvider('http://localhost:8545'))\n",
    "# enable PoA middleware\n",
    "w3.middleware_onion.inject(geth_poa_middleware, layer=0)\n",
    "w3.eth.setGasPriceStrategy(medium_gas_price_strategy)"
   ]
  },
  {
   "cell_type": "code",
   "execution_count": 14,
   "metadata": {},
   "outputs": [],
   "source": [
    "# Import constants.py and necessary functions from bit and web3\n",
    "from constants import *"
   ]
  },
  {
   "cell_type": "code",
   "execution_count": 17,
   "metadata": {},
   "outputs": [],
   "source": [
    "# Create a function called `derive_wallets`\n",
    "def derive_wallets(coin=BTC, mnemonic=mnemonic, depth=3):\n",
    "    command = f'php ./derive -g --mnemonic=\"{mnemonic}\" --cols=all --coin={coin} --numderive={depth} --format=json'\n",
    "    p = subprocess.Popen(command, stdout=subprocess.PIPE, shell=True)\n",
    "    output, err = p.communicate()\n",
    "    p_status = p.wait()\n",
    "    return json.loads(output)\n"
   ]
  },
  {
   "cell_type": "code",
   "execution_count": 18,
   "metadata": {},
   "outputs": [
    {
     "name": "stdout",
     "output_type": "stream",
     "text": [
      "{'btc-test': [{'address': 'mre2c3B9VGrg2Ts2ic7bLatciD3ZE21Jrj',\n",
      "               'index': 0,\n",
      "               'path': \"m/44'/1'/0'/0/0\",\n",
      "               'privkey': 'cRWxwAFkQkPnhvxq5JZQ2jGwF8UUaPtDEsx2LvWcevJrpewHuKmT',\n",
      "               'pubkey': '03d7baa0b273a4838957a543ee66eb96dcab7fb339484f7f76a6f6cbc27feeed47',\n",
      "               'pubkeyhash': '79ffe4aa3e39d055fef4d270e44f702d8438c252',\n",
      "               'xprv': 'tprv8k8KPAmvVXHVxJssqjriZbCiMTnukMQ5mVUtUobw2WpJ7zPmpP6TG3cQW6cSALA4VWiN9c3TrwWZW8w97auhh6wwohcvKAyCv2uJqBZ6Gea',\n",
      "               'xpub': 'tpubDGpMXapAdtyAqmufjPXJxzrpvVJqugazLo5fmKeESncgxUeYSmv3SYEGgGFNHK1vizh1JP42qxim3gGQL7gxpMsbqHrXDu4bEqyWUFJxXVL'},\n",
      "              {'address': 'mn67RWrhCjZcxJ2fzFKLe4gMSptWvrXwcU',\n",
      "               'index': 1,\n",
      "               'path': \"m/44'/1'/0'/0/1\",\n",
      "               'privkey': 'cTU3uQxAarPFo8hGKmeu3FVNWnBF8rgy6ZATFWMqMnwJFwzyqZ6V',\n",
      "               'pubkey': '035da9b550d6b0615c028e819fb02ee4a85ecb644b29375213fb112dd4bc708179',\n",
      "               'pubkeyhash': '48161a05ef9c3bcefb804e08039f47c1ae1aadb3',\n",
      "               'xprv': 'tprv8k8KPAmvVXHW1RT9seY91xuvhPhshrWEn9XXqJ7LhSPhbdagKAM3n2J39priS8K8BCY3kK9G1Q9wUV453hA4dmNsxKAizQXTWFoddXd1XMr',\n",
      "               'xpub': 'tpubDGpMXapAdtyAttUwmJCjRNa3GRDosBh9MT8K7p9e7iC6S7qSwZAdxWuuKy8GXJZsRUs4cxHVMH5k7fTRH7GEpTNWreEKMfeJXETZKtQ1YpW'},\n",
      "              {'address': 'mt6MBxCHdXNhUt7TvBAwq73Z3r2VnFCXQ2',\n",
      "               'index': 2,\n",
      "               'path': \"m/44'/1'/0'/0/2\",\n",
      "               'privkey': 'cMgbULTSyJHQwWaAreNd7ku9D1eNABFGrARFaFV2xYDRD2mAn2WK',\n",
      "               'pubkey': '0344f92753ec8b939bdcf59dfea8f946d1cad1ff5fad9e7566e91857ab30be1d8a',\n",
      "               'pubkeyhash': '89f25906e33a01a6ce1b89ca0896d385f4f5d738',\n",
      "               'xprv': 'tprv8k8KPAmvVXHW4UWUk4ptk9xLfZCpmRXSM4BMrt3vNz9gGXZynssr1py3YcjYr63a1HY3R44dNBwKFoxf2L1Qs2uBDrLt683hutsNTHfxBqi',\n",
      "               'xpub': 'tpubDGpMXapAdtyAwwYGdiVV9ZcTEaikvkiLvMn99Q6DoFx571pkRGhSCKauin8ENQonZ6PAx3ZicDmFm3dR3GbdrxNipmtSk3oMWT3brUhdPqf'}],\n",
      " 'eth': [{'address': '0x7456DcA30990c02c725BC41d97f9CC7805099409',\n",
      "          'index': 0,\n",
      "          'path': \"m/44'/60'/0'/0/0\",\n",
      "          'privkey': '0xd6b45057a4f11f7591944e4721bb7e5128ee9e79d6e1f72ea89e03e5c2e676ec',\n",
      "          'pubkey': '03eaca7e94022670f7cc3f40c27855a222b1c6473a9bffe8e3572160b65f8e6268',\n",
      "          'pubkeyhash': '63fca1eef60f80328055086eca6745fe3870274d',\n",
      "          'xprv': 'xprvA3cR2JMwpsNifLdy9KS72UkgpWmndokpALZcHULfEdKQPGuiFuieZH8Ruq4jyFcqhxRVeZcKjU26So6368YUHJQUNBXCapihMu1Y6VMZF6m',\n",
      "          'xpub': 'xpub6GbmRotqfEw1spiSFLy7PchRNYcH3GUfXZVD5rkGnxrPG5EroT2u75Sum8C6g8YnpjrQA6YU4qeZfPFYDxZpvNfm4ki9otEgr3aFE31BPMf'},\n",
      "         {'address': '0x028C5103F7227cE50A5E41a864fEC37780A11913',\n",
      "          'index': 1,\n",
      "          'path': \"m/44'/60'/0'/0/1\",\n",
      "          'privkey': '0x3a9aabda9dbfc4bdefde7419ae461f60b53b3b950425084c154408c167eb4ec5',\n",
      "          'pubkey': '02a48dd1c1ae5f1059a828189e6303946040a6d20e8a4b6cea4b47b28e14808687',\n",
      "          'pubkeyhash': 'fcbd7dfd7da57b3f98af6d7b82a5207a4c7fdd84',\n",
      "          'xprv': 'xprvA3cR2JMwpsNihZxzfYoLu3iMZaCEC8WD8pKqAtpowgi1o4zJEQkCcNadfeVWVj97MDFhWG5KbBeZFstVJ57VjxtmAtYrEQ3D9fSgnomKQyg',\n",
      "          'xpub': 'xpub6GbmRotqfEw1v43TmaLMGBf67c2ibbE4W3FRyHERW2EzfsKSmx4TAAu7WvKwHQ13wH3tVW9BuUUyj1Hw3RLybkVNqQoJnxBAALUiGtKhmqz'},\n",
      "         {'address': '0x4234f77bA91093F21a3c3E07f9Fc6fe6C892a7Cd',\n",
      "          'index': 2,\n",
      "          'path': \"m/44'/60'/0'/0/2\",\n",
      "          'privkey': '0x7eaf01673abaf52810eb39e9ece7fd833990fa71051a3ddb1e41d63835aa3d38',\n",
      "          'pubkey': '0321e7b862531d89a622adf7ee988cf9c6764b3422a9486e226c534552f1998227',\n",
      "          'pubkeyhash': 'fbf6d7e3b73f723cc2bd906ca9ec50012e88492b',\n",
      "          'xprv': 'xprvA3cR2JMwpsNim3TXznV9WEnd2N4HYC3VrGbBJhhbCwHHpgBqM22MvtR767zQi3HekLnwdyRgMXDi1j9kotnC4jZsnD78az5gQcP7LjUUhUw',\n",
      "          'xpub': 'xpub6GbmRotqfEw1yXY16p29sNjMaPtmwemMDVWn767CmGpGhUWytZLcUgjawQG4ReC8FDEGXtFnJYNNSgcNSGtEJpRwjEqqadRSSFWFzBJZzer'}]}\n",
      "0xd6b45057a4f11f7591944e4721bb7e5128ee9e79d6e1f72ea89e03e5c2e676ec\n"
     ]
    }
   ],
   "source": [
    "# Create a dictionary object called coins to store the output from `derive_wallets`.\n",
    "coins = {\n",
    "    ETH: derive_wallets(coin=ETH),\n",
    "    BTCTEST: derive_wallets(coin=BTCTEST),\n",
    "}\n",
    "\n",
    "pprint(coins)\n",
    "print(coins[\"eth\"][0]['privkey'])"
   ]
  },
  {
   "cell_type": "code",
   "execution_count": 19,
   "metadata": {},
   "outputs": [],
   "source": [
    "# Create a function called `priv_key_to_account` that converts privkey strings to account objects.\n",
    "def priv_key_to_account(coin, priv_key):\n",
    "   \n",
    "    if coin == ETH:\n",
    "        return Account.privateKeyToAccount(priv_key)\n",
    "    if coin == BTCTEST:\n",
    "        return PrivateKeyTestnet(priv_key)"
   ]
  },
  {
   "cell_type": "code",
   "execution_count": 20,
   "metadata": {},
   "outputs": [
    {
     "name": "stdout",
     "output_type": "stream",
     "text": [
      "<eth_account.signers.local.LocalAccount object at 0x000001A231203808>\n"
     ]
    }
   ],
   "source": [
    "eth_acc = priv_key_to_account(ETH,\"0xd6b45057a4f11f7591944e4721bb7e5128ee9e79d6e1f72ea89e03e5c2e676ec\")\n",
    "print(eth_acc)"
   ]
  },
  {
   "cell_type": "code",
   "execution_count": 21,
   "metadata": {},
   "outputs": [],
   "source": [
    "# Create a function called `create_tx` that creates an unsigned transaction appropriate metadata.\n",
    "def create_tx(coin, account, to, amount):\n",
    "    \n",
    "    global trx_data\n",
    "    if coin == ETH:\n",
    "        value = w3.toWei(amount, \"ether\") # convert 1.2 ETH to 120000000000 wei\n",
    "        gasEstimate = w3.eth.estimateGas(\n",
    "            {\"from\": account, \"to\": to, \"amount\": value }\n",
    "        )\n",
    "        trx_data = {\n",
    "            \"to\": to,\n",
    "            \"from\": account,\n",
    "            \"amount\": value,\n",
    "            \"gasPrice\": w3.eth.gasPrice,\n",
    "            \"gas\": gasEstimate,\n",
    "            \"nonce\": w3.eth.getTransactionCount(account),\n",
    "            \"chainId\": w3.eth.chain_id\n",
    "        }\n",
    "        return trx_data\n",
    "\n",
    "    if coin == BTCTEST:\n",
    "        return PrivateKeyTestnet.prepare_transaction(account.address, [(to, amount, BTC)])"
   ]
  },
  {
   "cell_type": "code",
   "execution_count": 22,
   "metadata": {},
   "outputs": [],
   "source": [
    "# Create a function called `send_tx` that calls `create_tx`, signs and sends the transaction.\n",
    "def send_tx(coin, account, to, amount):\n",
    "    \n",
    "    if coin == ETH:\n",
    "        raw_tx = create_tx(coin, account, to, amount)\n",
    "        signed = account.signTransaction(raw_tx)\n",
    "        return w3.eth.sendRawTransaction(signed.rawTransaction)\n",
    "    \n",
    "    if coin == BTCTEST:\n",
    "        raw_tx = create_tx(coin, account, to, amount)\n",
    "        signed = account.sign_transaction(raw_tx)\n",
    "        return NetworkAPI.broadcast_tx_testnet(signed)"
   ]
  },
  {
   "cell_type": "code",
   "execution_count": 23,
   "metadata": {},
   "outputs": [],
   "source": [
    "account = priv_key_to_account(BTCTEST, coins[BTCTEST][0]['privkey'], )"
   ]
  },
  {
   "cell_type": "code",
   "execution_count": 24,
   "metadata": {},
   "outputs": [],
   "source": [
    "send_tx(BTCTEST, account, 'mn67RWrhCjZcxJ2fzFKLe4gMSptWvrXwcU', '0.0001')"
   ]
  },
  {
   "cell_type": "code",
   "execution_count": null,
   "metadata": {},
   "outputs": [],
   "source": []
  }
 ],
 "metadata": {
  "kernelspec": {
   "display_name": "Python 3",
   "language": "python",
   "name": "python3"
  },
  "language_info": {
   "codemirror_mode": {
    "name": "ipython",
    "version": 3
   },
   "file_extension": ".py",
   "mimetype": "text/x-python",
   "name": "python",
   "nbconvert_exporter": "python",
   "pygments_lexer": "ipython3",
   "version": "3.8.5"
  }
 },
 "nbformat": 4,
 "nbformat_minor": 4
}
